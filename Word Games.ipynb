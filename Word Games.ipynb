{
 "cells": [
  {
   "cell_type": "code",
   "execution_count": 1,
   "id": "262f1f19-3ed3-4c06-8961-0d42814e2fa5",
   "metadata": {},
   "outputs": [
    {
     "name": "stdout",
     "output_type": "stream",
     "text": [
      "Ap_le"
     ]
    },
    {
     "name": "stdin",
     "output_type": "stream",
     "text": [
      "Guess the letter:  p\n"
     ]
    },
    {
     "name": "stdout",
     "output_type": "stream",
     "text": [
      "Excellent You Guessed it right\n",
      "\n",
      "Ma_go"
     ]
    },
    {
     "name": "stdin",
     "output_type": "stream",
     "text": [
      "Guess the letter:  n\n"
     ]
    },
    {
     "name": "stdout",
     "output_type": "stream",
     "text": [
      "Excellent You Guessed it right\n",
      "\n",
      "Pi_eapple"
     ]
    },
    {
     "name": "stdin",
     "output_type": "stream",
     "text": [
      "Guess the letter:  l\n"
     ]
    },
    {
     "name": "stdout",
     "output_type": "stream",
     "text": [
      "Incorrect Guess\n",
      "\n",
      "Your Final Score is:   2\n"
     ]
    }
   ],
   "source": [
    "# Word Game Only has 3 chance for entire game\n",
    "li=[\"Apple\",\"Mango\",\"Pineapple\"]\n",
    "point=0\n",
    "for i in li:\n",
    "    for j in range(0,len(i)):\n",
    "        #fixed blank space\n",
    "        if j==2:\n",
    "            print(\"_\",end=\"\")\n",
    "        else:\n",
    "            print(i[j],end=\"\")\n",
    "    l=input(\"Guess the letter: \")\n",
    "    if i[2]==l:\n",
    "        point=point+1\n",
    "        print(\"Excellent You Guessed it right\")\n",
    "    else:\n",
    "        print(\"Incorrect Guess\")\n",
    "    print(\"\")\n",
    "print(\"Your Final Score is:  \",point)"
   ]
  },
  {
   "cell_type": "code",
   "execution_count": 2,
   "id": "886b0a60-d132-4bb6-b84b-3929022685df",
   "metadata": {},
   "outputs": [
    {
     "name": "stdout",
     "output_type": "stream",
     "text": [
      "AP_LE"
     ]
    },
    {
     "name": "stdin",
     "output_type": "stream",
     "text": [
      "Guess the letter k\n"
     ]
    },
    {
     "name": "stdout",
     "output_type": "stream",
     "text": [
      "Incorrect Guess\n",
      "\n"
     ]
    },
    {
     "name": "stdin",
     "output_type": "stream",
     "text": [
      "Guess the letter k\n"
     ]
    },
    {
     "name": "stdout",
     "output_type": "stream",
     "text": [
      "Incorrect Guess\n",
      "\n"
     ]
    },
    {
     "name": "stdin",
     "output_type": "stream",
     "text": [
      "Guess the letter j\n"
     ]
    },
    {
     "name": "stdout",
     "output_type": "stream",
     "text": [
      "Incorrect Guess\n",
      "\n",
      "MA_GO"
     ]
    },
    {
     "name": "stdin",
     "output_type": "stream",
     "text": [
      "Guess the letter A\n"
     ]
    },
    {
     "name": "stdout",
     "output_type": "stream",
     "text": [
      "Incorrect Guess\n",
      "\n"
     ]
    },
    {
     "name": "stdin",
     "output_type": "stream",
     "text": [
      "Guess the letter N\n"
     ]
    },
    {
     "name": "stdout",
     "output_type": "stream",
     "text": [
      "\n",
      "WO_LD"
     ]
    },
    {
     "name": "stdin",
     "output_type": "stream",
     "text": [
      "Guess the letter R\n"
     ]
    },
    {
     "name": "stdout",
     "output_type": "stream",
     "text": [
      "\n",
      "HA_PY"
     ]
    },
    {
     "name": "stdin",
     "output_type": "stream",
     "text": [
      "Guess the letter P\n"
     ]
    },
    {
     "name": "stdout",
     "output_type": "stream",
     "text": [
      "\n",
      "Final Points  3\n"
     ]
    }
   ],
   "source": [
    "# Word Game each word has 3 Chance\n",
    "words = ['APPLE','MANGO','WORLD','HAPPY']\n",
    "point =0\n",
    "guess = 0 \n",
    "for i in words:\n",
    "    for j in range(0,len(i)):\n",
    "        if j==2:\n",
    "            print('_',end=\"\")\n",
    "        else:\n",
    "            print(i[j],end=\"\")\n",
    "    guess = 0\n",
    "    while guess<3:\n",
    "        iletter = input(\"Guess the letter\")\n",
    "        if i[2] == iletter:\n",
    "            point =point + 1\n",
    "            guess = 3\n",
    "        else :\n",
    "            print(\"Incorrect Guess\")\n",
    "            guess = guess + 1\n",
    "        print(\"\")\n",
    "print(\"Final Points \",point)"
   ]
  },
  {
   "cell_type": "code",
   "execution_count": 6,
   "id": "298ffea0-3354-4a9c-9ade-11808bd1548b",
   "metadata": {},
   "outputs": [
    {
     "name": "stdout",
     "output_type": "stream",
     "text": [
      "_PPLE"
     ]
    },
    {
     "name": "stdin",
     "output_type": "stream",
     "text": [
      "Guess the letter c\n"
     ]
    },
    {
     "name": "stdout",
     "output_type": "stream",
     "text": [
      "Incorrect Guess\n",
      "\n"
     ]
    },
    {
     "name": "stdin",
     "output_type": "stream",
     "text": [
      "Guess the letter c\n"
     ]
    },
    {
     "name": "stdout",
     "output_type": "stream",
     "text": [
      "Incorrect Guess\n",
      "\n"
     ]
    },
    {
     "name": "stdin",
     "output_type": "stream",
     "text": [
      "Guess the letter cs\n"
     ]
    },
    {
     "name": "stdout",
     "output_type": "stream",
     "text": [
      "Incorrect Guess\n",
      "\n",
      "MA_GO"
     ]
    },
    {
     "name": "stdin",
     "output_type": "stream",
     "text": [
      "Guess the letter N\n"
     ]
    },
    {
     "name": "stdout",
     "output_type": "stream",
     "text": [
      "WOW, You Guessed it right and your score is:  1\n",
      "\n",
      "WOR_D"
     ]
    },
    {
     "name": "stdin",
     "output_type": "stream",
     "text": [
      "Guess the letter L\n"
     ]
    },
    {
     "name": "stdout",
     "output_type": "stream",
     "text": [
      "WOW, You Guessed it right and your score is:  2\n",
      "\n",
      "HA_PY"
     ]
    },
    {
     "name": "stdin",
     "output_type": "stream",
     "text": [
      "Guess the letter P\n"
     ]
    },
    {
     "name": "stdout",
     "output_type": "stream",
     "text": [
      "WOW, You Guessed it right and your score is:  3\n",
      "\n",
      "Your Final Score is:  3\n"
     ]
    }
   ],
   "source": [
    "#Word Game that randomly generate blank space\n",
    "import random\n",
    "words = ['APPLE','MANGO','WORLD','HAPPY']\n",
    "point =0\n",
    "for i in words:\n",
    "    k=random.choice(range(0,len(i)))\n",
    "    for j in range(0,len(i)):\n",
    "        if j==k:\n",
    "            print('_',end=\"\")\n",
    "        else:\n",
    "            print(i[j],end=\"\")\n",
    "    guess = 0\n",
    "    while guess<3:\n",
    "        iletter = input(\"Guess the letter\")\n",
    "        if i[k] == iletter:\n",
    "            point =point + 1\n",
    "            guess = 3\n",
    "            print(\"WOW, You Guessed it right and your score is: \" ,point)\n",
    "        else :\n",
    "            print(\"Incorrect Guess\")\n",
    "            guess = guess + 1\n",
    "        print(\"\")\n",
    "print(\"Your Final Score is: \",point)"
   ]
  },
  {
   "cell_type": "code",
   "execution_count": 7,
   "id": "eb7e13a9-7892-4186-aeb3-cc84f2df9a6a",
   "metadata": {},
   "outputs": [
    {
     "name": "stdout",
     "output_type": "stream",
     "text": [
      "Guess the word from the given letter:  athe\n",
      "jg\n",
      "Incorrect guess\n",
      "You Scored: 0\n"
     ]
    }
   ],
   "source": [
    "import random\n",
    "list1=['hat','hate','ate','eat','hot','heat']\n",
    "point=0\n",
    "word=random.choice(list1)\n",
    "letter=list(word)\n",
    "random.shuffle(letter)\n",
    "print('Guess the word from the given letter: ',''.join(letter))\n",
    "guess= input()\n",
    "if guess==word:\n",
    "    point += 1\n",
    "    print(\"Correct Guess\" )\n",
    "else:\n",
    "    print(\"Incorrect guess\")\n",
    "print(\"You Scored:\", point)"
   ]
  },
  {
   "cell_type": "code",
   "execution_count": 14,
   "id": "7854e9fb",
   "metadata": {
    "scrolled": true
   },
   "outputs": [
    {
     "name": "stdout",
     "output_type": "stream",
     "text": [
      "Guess the word from the given letter:  aeht\n",
      "GUESS THE WORD : heat\n",
      "Correct Guess\n",
      "You Scored: 1\n"
     ]
    }
   ],
   "source": [
    "import random\n",
    "list1=['hat','hate','ate','eat','hot','heat']\n",
    "point=0\n",
    "word=random.choice(list1)\n",
    "letter=list(word)\n",
    "random.shuffle(letter)\n",
    "print('Guess the word from the given letter: ',''.join(letter))\n",
    "guess = 0\n",
    "while guess<3:\n",
    "    guessword= input(\"GUESS THE WORD : \")\n",
    "    if guessword==word:\n",
    "        point += 1\n",
    "        print(\"Correct Guess\" )\n",
    "        guess=3\n",
    "    else:\n",
    "        print(\"Incorrect guess\")\n",
    "        guess+= 1\n",
    "    print(\"You Scored:\", point)"
   ]
  },
  {
   "cell_type": "code",
   "execution_count": 21,
   "id": "5ed4a6ca",
   "metadata": {},
   "outputs": [
    {
     "name": "stdout",
     "output_type": "stream",
     "text": [
      "Guess the word from the given letters: a e i t h\n"
     ]
    },
    {
     "ename": "KeyboardInterrupt",
     "evalue": "Interrupted by user",
     "output_type": "error",
     "traceback": [
      "\u001b[1;31m---------------------------------------------------------------------------\u001b[0m",
      "\u001b[1;31mKeyboardInterrupt\u001b[0m                         Traceback (most recent call last)",
      "Cell \u001b[1;32mIn[21], line 8\u001b[0m\n\u001b[0;32m      6\u001b[0m \u001b[38;5;28;01mwhile\u001b[39;00m attempt\u001b[38;5;241m!=\u001b[39m\u001b[38;5;241m0\u001b[39m:\n\u001b[0;32m      7\u001b[0m     \u001b[38;5;28mprint\u001b[39m(\u001b[38;5;124m\"\u001b[39m\u001b[38;5;124mGuess the word from the given letters:\u001b[39m\u001b[38;5;124m\"\u001b[39m,\u001b[38;5;124m\"\u001b[39m\u001b[38;5;124m \u001b[39m\u001b[38;5;124m\"\u001b[39m \u001b[38;5;241m.\u001b[39mjoin(letters))\n\u001b[1;32m----> 8\u001b[0m     ans\u001b[38;5;241m=\u001b[39m\u001b[38;5;28minput\u001b[39m(\u001b[38;5;124m'\u001b[39m\u001b[38;5;124mEnter the word: \u001b[39m\u001b[38;5;124m'\u001b[39m)\n\u001b[0;32m      9\u001b[0m     \u001b[38;5;28;01mif\u001b[39;00m ans \u001b[38;5;129;01min\u001b[39;00m list2:\n\u001b[0;32m     10\u001b[0m         point\u001b[38;5;241m+\u001b[39m\u001b[38;5;241m=\u001b[39m\u001b[38;5;241m1\u001b[39m\n",
      "File \u001b[1;32m~\\anaconda3\\Lib\\site-packages\\ipykernel\\kernelbase.py:1262\u001b[0m, in \u001b[0;36mKernel.raw_input\u001b[1;34m(self, prompt)\u001b[0m\n\u001b[0;32m   1260\u001b[0m     msg \u001b[38;5;241m=\u001b[39m \u001b[38;5;124m\"\u001b[39m\u001b[38;5;124mraw_input was called, but this frontend does not support input requests.\u001b[39m\u001b[38;5;124m\"\u001b[39m\n\u001b[0;32m   1261\u001b[0m     \u001b[38;5;28;01mraise\u001b[39;00m StdinNotImplementedError(msg)\n\u001b[1;32m-> 1262\u001b[0m \u001b[38;5;28;01mreturn\u001b[39;00m \u001b[38;5;28mself\u001b[39m\u001b[38;5;241m.\u001b[39m_input_request(\n\u001b[0;32m   1263\u001b[0m     \u001b[38;5;28mstr\u001b[39m(prompt),\n\u001b[0;32m   1264\u001b[0m     \u001b[38;5;28mself\u001b[39m\u001b[38;5;241m.\u001b[39m_parent_ident[\u001b[38;5;124m\"\u001b[39m\u001b[38;5;124mshell\u001b[39m\u001b[38;5;124m\"\u001b[39m],\n\u001b[0;32m   1265\u001b[0m     \u001b[38;5;28mself\u001b[39m\u001b[38;5;241m.\u001b[39mget_parent(\u001b[38;5;124m\"\u001b[39m\u001b[38;5;124mshell\u001b[39m\u001b[38;5;124m\"\u001b[39m),\n\u001b[0;32m   1266\u001b[0m     password\u001b[38;5;241m=\u001b[39m\u001b[38;5;28;01mFalse\u001b[39;00m,\n\u001b[0;32m   1267\u001b[0m )\n",
      "File \u001b[1;32m~\\anaconda3\\Lib\\site-packages\\ipykernel\\kernelbase.py:1305\u001b[0m, in \u001b[0;36mKernel._input_request\u001b[1;34m(self, prompt, ident, parent, password)\u001b[0m\n\u001b[0;32m   1302\u001b[0m \u001b[38;5;28;01mexcept\u001b[39;00m \u001b[38;5;167;01mKeyboardInterrupt\u001b[39;00m:\n\u001b[0;32m   1303\u001b[0m     \u001b[38;5;66;03m# re-raise KeyboardInterrupt, to truncate traceback\u001b[39;00m\n\u001b[0;32m   1304\u001b[0m     msg \u001b[38;5;241m=\u001b[39m \u001b[38;5;124m\"\u001b[39m\u001b[38;5;124mInterrupted by user\u001b[39m\u001b[38;5;124m\"\u001b[39m\n\u001b[1;32m-> 1305\u001b[0m     \u001b[38;5;28;01mraise\u001b[39;00m \u001b[38;5;167;01mKeyboardInterrupt\u001b[39;00m(msg) \u001b[38;5;28;01mfrom\u001b[39;00m \u001b[38;5;28;01mNone\u001b[39;00m\n\u001b[0;32m   1306\u001b[0m \u001b[38;5;28;01mexcept\u001b[39;00m \u001b[38;5;167;01mException\u001b[39;00m:\n\u001b[0;32m   1307\u001b[0m     \u001b[38;5;28mself\u001b[39m\u001b[38;5;241m.\u001b[39mlog\u001b[38;5;241m.\u001b[39mwarning(\u001b[38;5;124m\"\u001b[39m\u001b[38;5;124mInvalid Message:\u001b[39m\u001b[38;5;124m\"\u001b[39m, exc_info\u001b[38;5;241m=\u001b[39m\u001b[38;5;28;01mTrue\u001b[39;00m)\n",
      "\u001b[1;31mKeyboardInterrupt\u001b[0m: Interrupted by user"
     ]
    }
   ],
   "source": [
    "list2=['hat','heat','hit','ate','eat','tea','hate']\n",
    "letters=['a','e','i','t','h']\n",
    "attempt= len(list2)\n",
    "point = 0\n",
    "li = []\n",
    "while attempt!=0:\n",
    "    print(\"Guess the word from the given letters:\",\" \" .join(letters))\n",
    "    ans=input('Enter the word: ')\n",
    "    if ans in list2:\n",
    "        point+=1\n",
    "        li.append(ans)\n",
    "        list2.remove(ans)\n",
    "        print(\"Correct Guess you scored: \", point)\n",
    "    else:\n",
    "        print('Incorrect Guess your score is: ', point)\n",
    "    attempt-= 1\n",
    "print(li)\n",
    "print('Your Final Point scord is: ', point)"
   ]
  },
  {
   "cell_type": "code",
   "execution_count": null,
   "id": "393e62c0",
   "metadata": {},
   "outputs": [],
   "source": []
  }
 ],
 "metadata": {
  "kernelspec": {
   "display_name": "Python 3 (ipykernel)",
   "language": "python",
   "name": "python3"
  },
  "language_info": {
   "codemirror_mode": {
    "name": "ipython",
    "version": 3
   },
   "file_extension": ".py",
   "mimetype": "text/x-python",
   "name": "python",
   "nbconvert_exporter": "python",
   "pygments_lexer": "ipython3",
   "version": "3.11.7"
  }
 },
 "nbformat": 4,
 "nbformat_minor": 5
}
